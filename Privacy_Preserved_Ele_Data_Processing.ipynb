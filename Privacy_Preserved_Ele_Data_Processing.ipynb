{
 "cells": [
  {
   "cell_type": "code",
   "execution_count": 1,
   "metadata": {},
   "outputs": [
    {
     "name": "stderr",
     "output_type": "stream",
     "text": [
      "C:\\Users\\User\\AppData\\Local\\conda\\conda\\envs\\tf15\\lib\\site-packages\\IPython\\core\\interactiveshell.py:3267: FutureWarning: \n",
      "mpl_style had been deprecated and will be removed in a future version.\n",
      "Use `matplotlib.pyplot.style.use` instead.\n",
      "\n",
      "  exec(code_obj, self.user_global_ns, self.user_ns)\n"
     ]
    }
   ],
   "source": [
    "%matplotlib inline \n",
    "\n",
    "import requests \n",
    "try:\n",
    "    from StringIO import StringIO\n",
    "except ImportError:\n",
    "    from io import StringIO\n",
    "import numpy as np\n",
    "import pandas as pd # pandas\n",
    "import matplotlib.pyplot as plt # module for plotting \n",
    "import datetime as dt # module for manipulating dates and times\n",
    "import numpy.linalg as lin # module for performing linear algebra operations\n",
    "#from __future__ import division\n",
    "from math import log10,exp\n",
    "import seaborn as sns\n",
    "import scipy as sp\n",
    "import sklearn\n",
    "import sklearn.model_selection\n",
    "from sklearn.ensemble import RandomForestRegressor\n",
    "from sklearn.model_selection import cross_val_score\n",
    "import csv\n",
    "\n",
    "pd.options.display.mpl_style = 'default'"
   ]
  },
  {
   "cell_type": "code",
   "execution_count": 2,
   "metadata": {},
   "outputs": [],
   "source": [
    "import warnings\n",
    "import itertools\n",
    "warnings.filterwarnings(\"ignore\")\n",
    "plt.style.use('fivethirtyeight')\n",
    "import statsmodels.api as sm\n",
    "from statsmodels.tsa.arima_model import ARIMA\n",
    "import matplotlib"
   ]
  },
  {
   "cell_type": "code",
   "execution_count": 3,
   "metadata": {},
   "outputs": [],
   "source": [
    "# load the dataset\n",
    "\n",
    "dataload_num = 1\n",
    "if dataload_num == 1:\n",
    "    data = pd.read_csv('Solar/Home-electricity-data-v3.csv')\n",
    "#end"
   ]
  },
  {
   "cell_type": "code",
   "execution_count": null,
   "metadata": {},
   "outputs": [],
   "source": [
    "# Choose the data from household with certain post codes, i.e., 2259, 2261, ......\n",
    "data_Postcode2259=data[data.Postcode == 2259]\n",
    "data_Postcode2261=data[data.Postcode == 2261]\n",
    "data_Postcode2262=data[data.Postcode == 2262]\n",
    "data_Postcode2263=data[data.Postcode == 2263]\n",
    "data_All4Postcodes=pd.concat([data_Postcode2259, data_Postcode2261,data_Postcode2262,data_Postcode2263], ignore_index=True)\n",
    "#df.groupby(['Postcode', 'Customer'])\n",
    "print(data_All4Postcodes.groupby(['Postcode', 'Customer']).count())"
   ]
  },
  {
   "cell_type": "code",
   "execution_count": null,
   "metadata": {},
   "outputs": [],
   "source": [
    "# Adding day of week to separate weekday and weekend\n",
    "import datetime as dt\n",
    "\n",
    "data_All4Postcodes.date = data_All4Postcodes.date.apply(lambda x: dt.datetime.strptime(x, '%d/%m/%Y'))\n",
    "data_All4Postcodes['day_of_week'] = data_All4Postcodes['date'].dt.dayofweek\n",
    "data_All4Postcodes"
   ]
  },
  {
   "cell_type": "code",
   "execution_count": null,
   "metadata": {},
   "outputs": [],
   "source": [
    "data_All4Postcodes_Consumption_GC=data_All4Postcodes[data_All4Postcodes.Consumption_Category == 'GC']\n",
    "data_All4Postcodes_Consumption_GG=data_All4Postcodes[data_All4Postcodes.Consumption_Category == 'GG']\n",
    "data_All4Postcodes_Consumption_GC"
   ]
  },
  {
   "cell_type": "code",
   "execution_count": null,
   "metadata": {},
   "outputs": [],
   "source": [
    "HalfHourTimestamp = list(data_All4Postcodes_Consumption_GC.columns)[5:53]\n",
    "\n",
    "Bin_Positions=[1,2864,5728,8592,11457,14321,17185,20050,22914]\n",
    "Bin_Range_Values=[]\n",
    "for x in range (48):\n",
    "    data_All4Postcodes_Consumption_GC_temp=data_All4Postcodes_Consumption_GC.loc[:,HalfHourTimestamp[x]]\n",
    "    Bin_Range_Values_tmp = [data_All4Postcodes_Consumption_GC_temp.nsmallest(Bin_Positions[y]).iloc[-1] for y in range (9)]\n",
    "    Bin_Range_Values.append(Bin_Range_Values_tmp)\n",
    "        #df11x2=df11.loc[:,'6:00']\n",
    "        #df11x2r[x,y]=df11x2.nsmallest(pos[y]).iloc[-1]\n",
    "Bin_Range_Values"
   ]
  },
  {
   "cell_type": "code",
   "execution_count": null,
   "metadata": {},
   "outputs": [],
   "source": [
    "with open('Bin_Range_Values_halfhourlyv8.txt', 'w') as f:\n",
    "    for item in Bin_Range_Values:\n",
    "        f.write(\"%s\\n\" % item)"
   ]
  },
  {
   "cell_type": "code",
   "execution_count": null,
   "metadata": {},
   "outputs": [],
   "source": [
    "DateTimestamp = pd.date_range(start = '2012-07-01', end = '2013-06-30', freq =\"D\")\n",
    "dACG=data_All4Postcodes_Consumption_GC\n",
    "dACG_Date=dACG[dACG.date == '2012-07-01']\n",
    "dACG_Date_Time=dACG_Date.loc[:,'0:30']\n",
    "dACG_Date_Time_Bins=dACG_Date_Time.groupby(pd.cut(dACG_Date_Time, Bin_Range_Values[0])).count().values.reshape(1, 8).T\n",
    "dACG_Date_Time_Bins_temp=dACG_Date_Time_Bins\n",
    "dACG_Date_Time_Bins_Noise= dACG_Date_Time_Bins + np.random.laplace(loc=0.0, scale=1.0, size=dACG_Date_Time_Bins.shape)\n",
    "dACG_Date_Time_Bins_Noise=np.around((dACG_Date_Time_Bins_Noise/np.sum(dACG_Date_Time_Bins_Noise))*np.sum(dACG_Date_Time_Bins))\n",
    "dACG_Date_Time_Bins_Noise_temp=dACG_Date_Time_Bins_Noise\n",
    "dACG_Date_Time_Bins_Noise_temp\n",
    "dACG_Date_Time_Bined_Accu_Elec=dACG_Date_Time_Bins[0]*(Bin_Range_Values[0][1]+Bin_Range_Values[0][0])/2+dACG_Date_Time_Bins[1]*(Bin_Range_Values[0][2]+Bin_Range_Values[0][1])/2+dACG_Date_Time_Bins[2]*(Bin_Range_Values[0][3]+Bin_Range_Values[0][2])/2+dACG_Date_Time_Bins[3]*(Bin_Range_Values[0][4]+Bin_Range_Values[0][3])/2+dACG_Date_Time_Bins[4]*(Bin_Range_Values[0][5]+Bin_Range_Values[0][4])/2+dACG_Date_Time_Bins[5]*(Bin_Range_Values[0][6]+Bin_Range_Values[0][5])/2+dACG_Date_Time_Bins[6]*(Bin_Range_Values[0][7]+Bin_Range_Values[0][6])/2+dACG_Date_Time_Bins[7]*(Bin_Range_Values[0][8]+Bin_Range_Values[0][7])/4\n",
    "dACG_Date_Time_Bined_Noise_Accu_Elec=dACG_Date_Time_Bins_Noise[0]*(Bin_Range_Values[0][1]+Bin_Range_Values[0][0])/2+dACG_Date_Time_Bins_Noise[1]*(Bin_Range_Values[0][2]+Bin_Range_Values[0][1])/2+dACG_Date_Time_Bins_Noise[2]*(Bin_Range_Values[0][3]+Bin_Range_Values[0][2])/2+dACG_Date_Time_Bins_Noise[3]*(Bin_Range_Values[0][4]+Bin_Range_Values[0][3])/2+dACG_Date_Time_Bins_Noise[4]*(Bin_Range_Values[0][5]+Bin_Range_Values[0][4])/2+dACG_Date_Time_Bins_Noise[5]*(Bin_Range_Values[0][6]+Bin_Range_Values[0][5])/2+dACG_Date_Time_Bins_Noise[6]*(Bin_Range_Values[0][7]+Bin_Range_Values[0][6])/2+dACG_Date_Time_Bins_Noise[7]*(Bin_Range_Values[0][8]+Bin_Range_Values[0][7])/4\n",
    "dACG_Date_Time_Bined_Accu_Elec_temp=dACG_Date_Time_Bined_Accu_Elec\n",
    "dACG_Date_Time_Bined_Noise_Accu_Elec_temp=dACG_Date_Time_Bined_Noise_Accu_Elec\n",
    "dACG_Date_Time_Bined_Noise_Accu_Elec_temp"
   ]
  },
  {
   "cell_type": "code",
   "execution_count": null,
   "metadata": {},
   "outputs": [],
   "source": [
    "\n",
    "for x in DateTimestamp:\n",
    "    dACG_Date=dACG[dACG.date == x]\n",
    "    for y in range (48):\n",
    "        #df11x2=df11.loc[:,HalfHourTimestamp1[x]]\n",
    "        dACG_Date_Time=dACG_Date.loc[:,HalfHourTimestamp[y]]\n",
    "        dACG_Date_Time_Bins=dACG_Date_Time.groupby(pd.cut(dACG_Date_Time, Bin_Range_Values[y])).count().values.reshape(1, 8).T\n",
    "\n",
    "        dACG_Date_Time_Bins_Noise= dACG_Date_Time_Bins + np.random.laplace(loc=0.0, scale=1.0, size=dACG_Date_Time_Bins.shape)\n",
    "        dACG_Date_Time_Bins_Noise=np.around((dACG_Date_Time_Bins_Noise/np.sum(dACG_Date_Time_Bins_Noise))*np.sum(dACG_Date_Time_Bins))\n",
    "\n",
    "        dACG_Date_Time_Bined_Accu_Elec=dACG_Date_Time_Bins[0]*(Bin_Range_Values[y][1]+Bin_Range_Values[y][0])/2+dACG_Date_Time_Bins[1]*(Bin_Range_Values[y][2]+Bin_Range_Values[y][1])/2+dACG_Date_Time_Bins[2]*(Bin_Range_Values[y][3]+Bin_Range_Values[y][2])/2+dACG_Date_Time_Bins[3]*(Bin_Range_Values[y][4]+Bin_Range_Values[y][3])/2+dACG_Date_Time_Bins[4]*(Bin_Range_Values[y][5]+Bin_Range_Values[y][4])/2+dACG_Date_Time_Bins[5]*(Bin_Range_Values[y][6]+Bin_Range_Values[y][5])/2+dACG_Date_Time_Bins[6]*(Bin_Range_Values[y][7]+Bin_Range_Values[y][6])/2+dACG_Date_Time_Bins[7]*(Bin_Range_Values[y][8]+Bin_Range_Values[y][7])/4\n",
    "        dACG_Date_Time_Bined_Noise_Accu_Elec=dACG_Date_Time_Bins_Noise[0]*(Bin_Range_Values[y][1]+Bin_Range_Values[y][0])/2+dACG_Date_Time_Bins_Noise[1]*(Bin_Range_Values[y][2]+Bin_Range_Values[y][1])/2+dACG_Date_Time_Bins_Noise[2]*(Bin_Range_Values[y][3]+Bin_Range_Values[y][2])/2+dACG_Date_Time_Bins_Noise[3]*(Bin_Range_Values[y][4]+Bin_Range_Values[y][3])/2+dACG_Date_Time_Bins_Noise[4]*(Bin_Range_Values[y][5]+Bin_Range_Values[y][4])/2+dACG_Date_Time_Bins_Noise[5]*(Bin_Range_Values[y][6]+Bin_Range_Values[y][5])/2+dACG_Date_Time_Bins_Noise[6]*(Bin_Range_Values[y][7]+Bin_Range_Values[y][6])/2+dACG_Date_Time_Bins_Noise[7]*(Bin_Range_Values[y][8]+Bin_Range_Values[y][7])/4\n",
    "\n",
    "        #dACG_Date_Time_Bined_Accu_Elec=dACG_Date_Time_Bins[0]*(Bin_Range_Values[y][1]+Bin_Range_Values[y][0])/2+dACG_Date_Time_Bins[1]*(Bin_Range_Values[y][2]+Bin_Range_Values[y][1])/2+dACG_Date_Time_Bins[2]*(Bin_Range_Values[y][3]+Bin_Range_Values[y][2])/2+dACG_Date_Time_Bins[3]*(Bin_Range_Values[y][4]+Bin_Range_Values[y][3])/2+dACG_Date_Time_Bins[4]*(Bin_Range_Values[y][5]+Bin_Range_Values[y][4])/2\n",
    "        #dACG_Date_Time_Bined_Noise_Accu_Elec=dACG_Date_Time_Bins_Noise[0]*(Bin_Range_Values[y][1]+Bin_Range_Values[y][0])/2+dACG_Date_Time_Bins_Noise[1]*(Bin_Range_Values[y][2]+Bin_Range_Values[y][1])/2+dACG_Date_Time_Bins_Noise[2]*(Bin_Range_Values[y][3]+Bin_Range_Values[y][2])/2+dACG_Date_Time_Bins_Noise[3]*(Bin_Range_Values[y][4]+Bin_Range_Values[y][3])/2+dACG_Date_Time_Bins_Noise[4]*(Bin_Range_Values[y][5]+Bin_Range_Values[y][4])/2\n",
    "\n",
    "        #if y=='0:30':\n",
    "        #    dfx4=dfx3\n",
    "        #else:\n",
    "        #dfx4=pd.concat([dfx4,dfx3], axis=1, ignore_index=True)\n",
    "        dACG_Date_Time_Bins_temp=np.concatenate((dACG_Date_Time_Bins_temp,dACG_Date_Time_Bins),axis=1)\n",
    "        dACG_Date_Time_Bins_Noise_temp=np.concatenate((dACG_Date_Time_Bins_Noise_temp,dACG_Date_Time_Bins_Noise),axis=1)\n",
    "        dACG_Date_Time_Bined_Accu_Elec_temp=np.concatenate((dACG_Date_Time_Bined_Accu_Elec_temp,dACG_Date_Time_Bined_Accu_Elec),axis=0)\n",
    "        dACG_Date_Time_Bined_Noise_Accu_Elec_temp=np.concatenate((dACG_Date_Time_Bined_Noise_Accu_Elec_temp,dACG_Date_Time_Bined_Noise_Accu_Elec),axis=0)\n",
    "    \n",
    "    #dfx5=pd.concat([dfx5,dfx4], axis=0, ignore_index=True)"
   ]
  },
  {
   "cell_type": "code",
   "execution_count": null,
   "metadata": {},
   "outputs": [],
   "source": [
    "dACG_Date_Time_Bined_Accu_Elec_Final=dACG_Date_Time_Bined_Accu_Elec_temp[1:].reshape(17520, 1, order='C')\n",
    "dACG_Date_Time_Bined_Noise_Accu_Elec_Final=dACG_Date_Time_Bined_Noise_Accu_Elec_temp[1:].reshape(17520, 1, order='C')\n",
    "\n",
    "dACG_Date_Time_Bined_Accu_Elec_Final.shape"
   ]
  },
  {
   "cell_type": "code",
   "execution_count": null,
   "metadata": {},
   "outputs": [],
   "source": [
    "with open('Bins_Infos.txt', 'w') as f:\n",
    "    for item in dACG_Date_Time_Bins_temp:\n",
    "        f.write(\"%s\\n\" % item)"
   ]
  },
  {
   "cell_type": "code",
   "execution_count": null,
   "metadata": {},
   "outputs": [],
   "source": [
    "with open('dACG_Date_Time_Bined_Accu_Elec_Final.txt', 'w') as f:\n",
    "    for item in dACG_Date_Time_Bined_Accu_Elec_Final:\n",
    "        f.write(\"%s\\n\" % item)"
   ]
  },
  {
   "cell_type": "code",
   "execution_count": null,
   "metadata": {},
   "outputs": [],
   "source": [
    "dACGG=data_All4Postcodes_Consumption_GG\n",
    "dACG_groupby_Date_Sum=dACG.groupby(['date']).sum()\n",
    "dACG_groupby_Date_Sum_temp=dACG_groupby_Date_Sum.loc[:,'0:30':'0:00']\n",
    "new_rows = int(dACG_groupby_Date_Sum_temp.shape[1]) * dACG_groupby_Date_Sum_temp.shape[0]\n",
    "new_cols = 1\n",
    "dACG_Extact_Accu_Elec_Final=dACG_groupby_Date_Sum_temp.values.reshape(new_rows, new_cols, order='C')\n",
    "dACG_Extact_Accu_Elec_Final\n",
    "dACGG_groupby_Date_Sum=dACGG.groupby(['date']).sum()\n",
    "dACGG_groupby_Date_Sum_temp=dACGG_groupby_Date_Sum.loc[:,'0:30':'0:00']\n",
    "new_rows = int(dACGG_groupby_Date_Sum_temp.shape[1]) * dACGG_groupby_Date_Sum_temp.shape[0]\n",
    "new_cols = 1\n",
    "dACGG_Extact_Accu_Elec_Final=dACGG_groupby_Date_Sum_temp.values.reshape(new_rows, new_cols, order='C')\n",
    "dACGG_Extact_Accu_Elec_Final"
   ]
  },
  {
   "cell_type": "code",
   "execution_count": null,
   "metadata": {},
   "outputs": [],
   "source": [
    "dACGGMGC_Date_Time_Bined_Noise_Accu_Elec_Final=dACGG_Extact_Accu_Elec_Final-dACG_Date_Time_Bined_Noise_Accu_Elec_Final\n",
    "dACGGMGC_Date_Time_Bined_Accu_Elec_Final=dACGG_Extact_Accu_Elec_Final-dACG_Date_Time_Bined_Accu_Elec_Final\n",
    "dACGGMGC_Extact_Accu_Elec_Final=dACGG_Extact_Accu_Elec_Final-dACG_Extact_Accu_Elec_Final\n",
    "dACGGMGC_Extact_Accu_Elec_Final"
   ]
  },
  {
   "cell_type": "code",
   "execution_count": null,
   "metadata": {},
   "outputs": [],
   "source": [
    "dataset_Bined_Noise_Accu_Elec_Final = pd.DataFrame({'Column1':dACGGMGC_Date_Time_Bined_Noise_Accu_Elec_Final[:,0]})\n",
    "dataset_Bined_Accu_Elec_Final = pd.DataFrame({'Column1':dACGGMGC_Date_Time_Bined_Accu_Elec_Final[:,0]})\n",
    "\n",
    "dataset_Extact_Accu_Elec_Final = pd.DataFrame({'Column1':dACGGMGC_Extact_Accu_Elec_Final[:,0]})\n",
    "dataset_Extact_Accu_Elec_Final2 = pd.DataFrame({'Column1':dACGG_Extact_Accu_Elec_Final[:,0]})\n",
    "\n",
    "print(dataset_Extact_Accu_Elec_Final2)\n"
   ]
  },
  {
   "cell_type": "code",
   "execution_count": null,
   "metadata": {},
   "outputs": [],
   "source": [
    "hourlyTimestamp = pd.date_range(start = '2012-07-01 00:30:00', end = '2013-07-01', freq =\"30min\")\n",
    "hourlyTimestamp\n",
    "dataset_Bined_Noise_Accu_Elec_Final.index=hourlyTimestamp\n",
    "dataset_Bined_Accu_Elec_Final.index=hourlyTimestamp\n",
    "dataset_Extact_Accu_Elec_Final.index=hourlyTimestamp\n",
    "dataset_Extact_Accu_Elec_Final2.index=hourlyTimestamp\n",
    "dataset_Bined_Noise_Accu_Elec_Final"
   ]
  },
  {
   "cell_type": "code",
   "execution_count": null,
   "metadata": {},
   "outputs": [],
   "source": [
    "dataset_Bined_Noise_Accu_Elec_Final.to_csv('dataset_Bined_Noise_Accu_Elec_Finalv8.csv')\n",
    "dataset_Bined_Accu_Elec_Final.to_csv('dataset_Bined_Accu_Elec_Finalv8.csv') \n",
    "dataset_Extact_Accu_Elec_Final.to_csv('dataset_Extact_Accu_Elec_Finalv8.csv') "
   ]
  },
  {
   "cell_type": "code",
   "execution_count": null,
   "metadata": {},
   "outputs": [],
   "source": []
  }
 ],
 "metadata": {
  "kernelspec": {
   "display_name": "Python 3",
   "language": "python",
   "name": "python3"
  },
  "language_info": {
   "codemirror_mode": {
    "name": "ipython",
    "version": 3
   },
   "file_extension": ".py",
   "mimetype": "text/x-python",
   "name": "python",
   "nbconvert_exporter": "python",
   "pygments_lexer": "ipython3",
   "version": "3.6.7"
  }
 },
 "nbformat": 4,
 "nbformat_minor": 2
}
